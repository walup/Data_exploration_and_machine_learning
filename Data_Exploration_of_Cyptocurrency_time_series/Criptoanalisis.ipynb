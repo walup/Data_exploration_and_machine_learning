{
 "cells": [
  {
   "cell_type": "markdown",
   "metadata": {},
   "source": [
    "## Exploración de series de tiempo de la evolución de distintas criptomonedas"
   ]
  },
  {
   "cell_type": "markdown",
   "metadata": {},
   "source": [
    "Es preciso mencionar que mi conocimiento sobre las criptomonedas en estas instancias es basicamente nulo, sin embargo, creo que esto me puede dar una perspectiva objetiva en el análisis de los resultados que se obtengan. Mi plan es hacer una investigación posterior, la cual contraste los análisis hechos en esta exploración con el panorama real de las criptomonedas. \n",
    "\n",
    "En el curso se han visto distintas técnicas, y sería realmente complicado abordar todas ellas. \n",
    "\n",
    "Aquí he seleccionado algunas que me parece podrían aportar información que nos permita dilucidar la relación que existe entre las distintas criptomonedas. "
   ]
  },
  {
   "cell_type": "markdown",
   "metadata": {},
   "source": [
    "### 0.- Apertura de datos"
   ]
  },
  {
   "cell_type": "code",
   "execution_count": 1,
   "metadata": {},
   "outputs": [],
   "source": [
    "from binance.client import Client\n",
    "from enum import Enum\n",
    "import matplotlib.pyplot as plt\n",
    "import numpy as np\n",
    "#Importamos las clases que hicimos en tareas pasadas \n",
    "from CorrelationCalculator import CorrelationCalculator\n",
    "from DistributionComparator import DistributionComparator\n",
    "import warnings\n",
    "warnings.filterwarnings('ignore')\n",
    "import DataQuantizer\n",
    "import DimReductor\n",
    "from FeatureCalculator import FeatureCalculator\n",
    "from random import randrange"
   ]
  },
  {
   "cell_type": "code",
   "execution_count": 6,
   "metadata": {},
   "outputs": [],
   "source": [
    "class CoinType(str,Enum):\n",
    "    BITCOIN = \"BTC\"\n",
    "    ETHEREUM = \"ETH\"\n",
    "    BNB = \"BNB\"\n",
    "    CARDANO = \"ADA\"\n",
    "    DOGECOIN = \"DOGE\"\n",
    "    RIPPLE = \"XRP\"\n",
    "    POLKADOT = \"DOT\"\n",
    "    LITECOIN = \"LTC\"\n",
    "    SOLANA = \"SOL\"\n",
    "    BITCOIN_CASH = \"BCH\"\n",
    "    CHAINLINK = \"LINK\"\n",
    "    POLYGON = \"MATIC\"\n",
    "    THETA = \"THETA\"\n",
    "    STELLAR = \"XLM\"\n",
    "    VECHAIN = \"VET\"\n",
    "    ETHER_CLASSIC = \"ETC\"\n",
    "    FILECOIN = \"FIL\"\n",
    "    TRON = \"TRX\"\n",
    "    BAT = \"BAT\"\n",
    "    QTUM = \"QTUM\"\n",
    "    WAZIRX = \"WRX\"\n",
    "    \n",
    "class CryptoInfoRetriever:\n",
    "    #Las fechas deben estar en formato estandar UTC \"YYYY-MM-DD\"\n",
    "    def __init__(self, initialDate, finalDate):\n",
    "        self.apiKey = \"HbrskJyT2YwAbKqSKO6lwe9QO1pZzza4pB5eyDpaWFwkRSts6QNXQZ1gROgCzmgw\"\n",
    "        self.secretKey = \"Y1K1BnyPRvtDnHq3shDALkl2SMwlhZu2ZxG6rdJmOo82ZPvSh5kT5amWbW7hCoMS\"\n",
    "        \n",
    "        #Inicializamos el cliente\n",
    "        self.interval = \"1h\"\n",
    "        self.client = Client(self.apiKey, self.secretKey)\n",
    "        self.initialDate = initialDate\n",
    "        self.finalDate = finalDate\n",
    "    \n",
    "    #Ya esta, ahora podemos acceder a las series de tiempo que necesitemos\n",
    "    \n",
    "    def retrieveMonthlyData(self, coinType):\n",
    "        d = self.client.get_historical_klines(coinType.value+\"USDT\", self.interval,self.initialDate, self.finalDate, limit = 500)\n",
    "        n = len(d)\n",
    "        #El precio de la criptomoneda está en la segunda posición\n",
    "        prices = []\n",
    "        for i in range(0,n):\n",
    "            ohlcv = d[i]\n",
    "            prices.append(ohlcv[1])\n",
    "        prices = np.array([float(x) for x in prices])\n",
    "        prices = (prices - np.mean(prices))/np.std(prices)\n",
    "        return np.arange(0,n, 1), prices\n",
    "    \n",
    "    \n",
    "    def getAllCoinSeriesDictionary(self):\n",
    "        seriesDictionary = {}\n",
    "        for coin in CoinType:\n",
    "            tArr, timeSeries = self.retrieveMonthlyData(coin)\n",
    "            seriesDictionary[coin] = timeSeries\n",
    "        \n",
    "        return tArr, seriesDictionary\n",
    "        \n",
    "    \n",
    "    "
   ]
  },
  {
   "cell_type": "code",
   "execution_count": 20,
   "metadata": {},
   "outputs": [
    {
     "data": {
      "text/plain": [
       "Text(0, 0.5, 'Precio (USDT)')"
      ]
     },
     "execution_count": 20,
     "metadata": {},
     "output_type": "execute_result"
    },
    {
     "data": {
      "image/png": "[encoded data removed]",
      "text/plain": [
       "<Figure size 432x288 with 1 Axes>"
      ]
     },
     "metadata": {
      "needs_background": "light"
     },
     "output_type": "display_data"
    }
   ],
   "source": [
    "#Prueba funcionamiento de la apertura de datos\n",
    "cType = CoinType.DOGECOIN\n",
    "cryptoRetriever = CryptoInfoRetriever(\"2020-08-01\", \"2021-06-01\")\n",
    "hoursArray, resultingTimeSeries = cryptoRetriever.retrieveMonthlyData(cType)\n",
    "\n",
    "plt.figure()\n",
    "plt.plot(hoursArray, resultingTimeSeries, color = \"#7aadff\")\n",
    "plt.title(\"Precio de moneda \"+cType.value + \" Desde \"+cryptoRetriever.initialDate+ \" a \"+cryptoRetriever.finalDate)\n",
    "plt.xlabel(\"Hora\")\n",
    "plt.ylabel(\"Precio (USDT)\")\n"
   ]
  },
  {
   "cell_type": "code",
   "execution_count": 21,
   "metadata": {},
   "outputs": [
    {
     "ename": "ValueError",
     "evalue": "x and y must have same first dimension, but have shapes (7285,) and (6854,)",
     "output_type": "error",
     "traceback": [
      "\u001b[1;31m---------------------------------------------------------------------------\u001b[0m",
      "\u001b[1;31mValueError\u001b[0m                                Traceback (most recent call last)",
      "\u001b[1;32m<ipython-input-21-ad3c06c334be>\u001b[0m in \u001b[0;36m<module>\u001b[1;34m\u001b[0m\n\u001b[0;32m     10\u001b[0m     \u001b[0mrow\u001b[0m \u001b[1;33m=\u001b[0m \u001b[0mint\u001b[0m\u001b[1;33m(\u001b[0m\u001b[0mcounter\u001b[0m\u001b[1;33m/\u001b[0m\u001b[1;36m3\u001b[0m\u001b[1;33m)\u001b[0m\u001b[1;33m\u001b[0m\u001b[1;33m\u001b[0m\u001b[0m\n\u001b[0;32m     11\u001b[0m     \u001b[0mcol\u001b[0m \u001b[1;33m=\u001b[0m \u001b[0mcounter\u001b[0m\u001b[1;33m%\u001b[0m\u001b[1;36m3\u001b[0m\u001b[1;33m\u001b[0m\u001b[1;33m\u001b[0m\u001b[0m\n\u001b[1;32m---> 12\u001b[1;33m     \u001b[0max\u001b[0m\u001b[1;33m[\u001b[0m\u001b[0mrow\u001b[0m\u001b[1;33m,\u001b[0m \u001b[0mcol\u001b[0m\u001b[1;33m]\u001b[0m\u001b[1;33m.\u001b[0m\u001b[0mplot\u001b[0m\u001b[1;33m(\u001b[0m\u001b[0mtArr\u001b[0m\u001b[1;33m,\u001b[0m \u001b[0mseriesDictionary\u001b[0m\u001b[1;33m[\u001b[0m\u001b[0mcoin\u001b[0m\u001b[1;33m]\u001b[0m\u001b[1;33m,\u001b[0m \u001b[0mcolor\u001b[0m \u001b[1;33m=\u001b[0m \u001b[1;34m\"#7aadff\"\u001b[0m\u001b[1;33m)\u001b[0m\u001b[1;33m\u001b[0m\u001b[1;33m\u001b[0m\u001b[0m\n\u001b[0m\u001b[0;32m     13\u001b[0m     \u001b[0max\u001b[0m\u001b[1;33m[\u001b[0m\u001b[0mrow\u001b[0m\u001b[1;33m,\u001b[0m \u001b[0mcol\u001b[0m\u001b[1;33m]\u001b[0m\u001b[1;33m.\u001b[0m\u001b[0mset_title\u001b[0m\u001b[1;33m(\u001b[0m\u001b[0mcoin\u001b[0m\u001b[1;33m.\u001b[0m\u001b[0mvalue\u001b[0m\u001b[1;33m)\u001b[0m\u001b[1;33m\u001b[0m\u001b[1;33m\u001b[0m\u001b[0m\n\u001b[0;32m     14\u001b[0m     \u001b[0max\u001b[0m\u001b[1;33m[\u001b[0m\u001b[0mrow\u001b[0m\u001b[1;33m,\u001b[0m \u001b[0mcol\u001b[0m\u001b[1;33m]\u001b[0m\u001b[1;33m.\u001b[0m\u001b[0mset_xlabel\u001b[0m\u001b[1;33m(\u001b[0m\u001b[1;34m\"Hora\"\u001b[0m\u001b[1;33m)\u001b[0m\u001b[1;33m\u001b[0m\u001b[1;33m\u001b[0m\u001b[0m\n",
      "\u001b[1;32m~\\anaconda3\\lib\\site-packages\\matplotlib\\axes\\_axes.py\u001b[0m in \u001b[0;36mplot\u001b[1;34m(self, scalex, scaley, data, *args, **kwargs)\u001b[0m\n\u001b[0;32m   1741\u001b[0m         \"\"\"\n\u001b[0;32m   1742\u001b[0m         \u001b[0mkwargs\u001b[0m \u001b[1;33m=\u001b[0m \u001b[0mcbook\u001b[0m\u001b[1;33m.\u001b[0m\u001b[0mnormalize_kwargs\u001b[0m\u001b[1;33m(\u001b[0m\u001b[0mkwargs\u001b[0m\u001b[1;33m,\u001b[0m \u001b[0mmlines\u001b[0m\u001b[1;33m.\u001b[0m\u001b[0mLine2D\u001b[0m\u001b[1;33m)\u001b[0m\u001b[1;33m\u001b[0m\u001b[1;33m\u001b[0m\u001b[0m\n\u001b[1;32m-> 1743\u001b[1;33m         \u001b[0mlines\u001b[0m \u001b[1;33m=\u001b[0m \u001b[1;33m[\u001b[0m\u001b[1;33m*\u001b[0m\u001b[0mself\u001b[0m\u001b[1;33m.\u001b[0m\u001b[0m_get_lines\u001b[0m\u001b[1;33m(\u001b[0m\u001b[1;33m*\u001b[0m\u001b[0margs\u001b[0m\u001b[1;33m,\u001b[0m \u001b[0mdata\u001b[0m\u001b[1;33m=\u001b[0m\u001b[0mdata\u001b[0m\u001b[1;33m,\u001b[0m \u001b[1;33m**\u001b[0m\u001b[0mkwargs\u001b[0m\u001b[1;33m)\u001b[0m\u001b[1;33m]\u001b[0m\u001b[1;33m\u001b[0m\u001b[1;33m\u001b[0m\u001b[0m\n\u001b[0m\u001b[0;32m   1744\u001b[0m         \u001b[1;32mfor\u001b[0m \u001b[0mline\u001b[0m \u001b[1;32min\u001b[0m \u001b[0mlines\u001b[0m\u001b[1;33m:\u001b[0m\u001b[1;33m\u001b[0m\u001b[1;33m\u001b[0m\u001b[0m\n\u001b[0;32m   1745\u001b[0m             \u001b[0mself\u001b[0m\u001b[1;33m.\u001b[0m\u001b[0madd_line\u001b[0m\u001b[1;33m(\u001b[0m\u001b[0mline\u001b[0m\u001b[1;33m)\u001b[0m\u001b[1;33m\u001b[0m\u001b[1;33m\u001b[0m\u001b[0m\n",
      "\u001b[1;32m~\\anaconda3\\lib\\site-packages\\matplotlib\\axes\\_base.py\u001b[0m in \u001b[0;36m__call__\u001b[1;34m(self, data, *args, **kwargs)\u001b[0m\n\u001b[0;32m    271\u001b[0m                 \u001b[0mthis\u001b[0m \u001b[1;33m+=\u001b[0m \u001b[0margs\u001b[0m\u001b[1;33m[\u001b[0m\u001b[1;36m0\u001b[0m\u001b[1;33m]\u001b[0m\u001b[1;33m,\u001b[0m\u001b[1;33m\u001b[0m\u001b[1;33m\u001b[0m\u001b[0m\n\u001b[0;32m    272\u001b[0m                 \u001b[0margs\u001b[0m \u001b[1;33m=\u001b[0m \u001b[0margs\u001b[0m\u001b[1;33m[\u001b[0m\u001b[1;36m1\u001b[0m\u001b[1;33m:\u001b[0m\u001b[1;33m]\u001b[0m\u001b[1;33m\u001b[0m\u001b[1;33m\u001b[0m\u001b[0m\n\u001b[1;32m--> 273\u001b[1;33m             \u001b[1;32myield\u001b[0m \u001b[1;32mfrom\u001b[0m \u001b[0mself\u001b[0m\u001b[1;33m.\u001b[0m\u001b[0m_plot_args\u001b[0m\u001b[1;33m(\u001b[0m\u001b[0mthis\u001b[0m\u001b[1;33m,\u001b[0m \u001b[0mkwargs\u001b[0m\u001b[1;33m)\u001b[0m\u001b[1;33m\u001b[0m\u001b[1;33m\u001b[0m\u001b[0m\n\u001b[0m\u001b[0;32m    274\u001b[0m \u001b[1;33m\u001b[0m\u001b[0m\n\u001b[0;32m    275\u001b[0m     \u001b[1;32mdef\u001b[0m \u001b[0mget_next_color\u001b[0m\u001b[1;33m(\u001b[0m\u001b[0mself\u001b[0m\u001b[1;33m)\u001b[0m\u001b[1;33m:\u001b[0m\u001b[1;33m\u001b[0m\u001b[1;33m\u001b[0m\u001b[0m\n",
      "\u001b[1;32m~\\anaconda3\\lib\\site-packages\\matplotlib\\axes\\_base.py\u001b[0m in \u001b[0;36m_plot_args\u001b[1;34m(self, tup, kwargs)\u001b[0m\n\u001b[0;32m    397\u001b[0m \u001b[1;33m\u001b[0m\u001b[0m\n\u001b[0;32m    398\u001b[0m         \u001b[1;32mif\u001b[0m \u001b[0mx\u001b[0m\u001b[1;33m.\u001b[0m\u001b[0mshape\u001b[0m\u001b[1;33m[\u001b[0m\u001b[1;36m0\u001b[0m\u001b[1;33m]\u001b[0m \u001b[1;33m!=\u001b[0m \u001b[0my\u001b[0m\u001b[1;33m.\u001b[0m\u001b[0mshape\u001b[0m\u001b[1;33m[\u001b[0m\u001b[1;36m0\u001b[0m\u001b[1;33m]\u001b[0m\u001b[1;33m:\u001b[0m\u001b[1;33m\u001b[0m\u001b[1;33m\u001b[0m\u001b[0m\n\u001b[1;32m--> 399\u001b[1;33m             raise ValueError(f\"x and y must have same first dimension, but \"\n\u001b[0m\u001b[0;32m    400\u001b[0m                              f\"have shapes {x.shape} and {y.shape}\")\n\u001b[0;32m    401\u001b[0m         \u001b[1;32mif\u001b[0m \u001b[0mx\u001b[0m\u001b[1;33m.\u001b[0m\u001b[0mndim\u001b[0m \u001b[1;33m>\u001b[0m \u001b[1;36m2\u001b[0m \u001b[1;32mor\u001b[0m \u001b[0my\u001b[0m\u001b[1;33m.\u001b[0m\u001b[0mndim\u001b[0m \u001b[1;33m>\u001b[0m \u001b[1;36m2\u001b[0m\u001b[1;33m:\u001b[0m\u001b[1;33m\u001b[0m\u001b[1;33m\u001b[0m\u001b[0m\n",
      "\u001b[1;31mValueError\u001b[0m: x and y must have same first dimension, but have shapes (7285,) and (6854,)"
     ]
    },
    {
     "data": {
      "image/png": "[encoded data removed]",
      "text/plain": [
       "<Figure size 1080x2880 with 21 Axes>"
      ]
     },
     "metadata": {
      "needs_background": "light"
     },
     "output_type": "display_data"
    }
   ],
   "source": [
    "#Visualicemos todas las series de tiempo\n",
    "tArr, seriesDictionary = cryptoRetriever.getAllCoinSeriesDictionary()\n",
    "n = len(CoinType)\n",
    "rows = int(np.floor(n/3))\n",
    "if(n % 3 >0):\n",
    "    rows = rows + 1 \n",
    "fig, ax = plt.subplots(rows, 3, figsize = (15, 40))\n",
    "counter = 0\n",
    "for coin in CoinType:\n",
    "    row = int(counter/3)\n",
    "    col = counter%3\n",
    "    ax[row, col].plot(tArr, seriesDictionary[coin], color = \"#7aadff\")\n",
    "    ax[row, col].set_title(coin.value)\n",
    "    ax[row, col].set_xlabel(\"Hora\")\n",
    "    ax[row, col].set_ylabel(\"USDT\")\n",
    "    counter = counter + 1"
   ]
  },
  {
   "cell_type": "markdown",
   "metadata": {},
   "source": [
    "### 1.- Dependencias entre variables"
   ]
  },
  {
   "cell_type": "markdown",
   "metadata": {},
   "source": [
    "#### 1.1.- Coeficiente de correlación de pearson"
   ]
  },
  {
   "cell_type": "code",
   "execution_count": null,
   "metadata": {},
   "outputs": [],
   "source": [
    "#Creamos el calculador de correlaciones\n",
    "corrCalculator = CorrelationCalculator()\n",
    "coinTypes = [c for c in CoinType]\n",
    "coinNames = [c.value for c in coinTypes]\n",
    "\n",
    "n = len(coinTypes)\n",
    "correlationTable = np.zeros((n,n))\n",
    "significanceTable = np.zeros((n,n))\n",
    "tolerance = 0.01\n",
    "maxCorrelation = float('-Inf')\n",
    "maxCorrelationIndex1 = 0\n",
    "maxCorrelationIndex2 = 0\n",
    "minCorrelation = float('Inf')\n",
    "minCorrelationIndex1 = 0\n",
    "minCorrelationIndex2 = 0\n",
    "\n",
    "\n",
    "\n",
    "for i in range(0,n):\n",
    "    cType1 = coinTypes[i]\n",
    "    timeSeries1 = seriesDictionary[cType1]\n",
    "    for j in range(0,n): \n",
    "        cType2 = coinTypes[j]\n",
    "        timeSeries2 = seriesDictionary[cType2]\n",
    "        corr, pValue = corrCalculator.getPearsonCorrelation(timeSeries1, timeSeries2)\n",
    "        correlationTable[i,j]  = np.abs(corr)\n",
    "        \n",
    "        if(i != j and np.abs(corr) >= maxCorrelation):\n",
    "            maxCorrelation = corr\n",
    "            maxCorrelationIndex1 = i\n",
    "            maxCorrelationIndex2 = j\n",
    "        \n",
    "        if(i != j and np.abs(corr) <= minCorrelation):\n",
    "            minCorrelation = np.abs(corr)\n",
    "            minCorrelationIndex1 = i\n",
    "            minCorrelationIndex2 = j\n",
    "\n",
    "        if(pValue < tolerance):\n",
    "            significanceTable[i,j] = 1\n",
    "\n",
    "for i in range(0,n):\n",
    "    for j in range(0,n):\n",
    "        if(correlationTable[i,j] == maxCorrelation):\n",
    "            print(\"max: \"+coinNames[i] + \"->\"+coinNames[j])\n",
    "for i in range(0,n):\n",
    "    for j in range(0,n):\n",
    "        if(correlationTable[i,j] == minCorrelation):\n",
    "            print(\"min: \"+coinNames[i] + \"->\"+coinNames[j])\n",
    "#Imprimimos entre que criptomonedas se encontraron las menores correlaciones\n",
    "print(\"La menor correlación de Pearson se encontró entre \"+str(coinNames[minCorrelationIndex1]) + \" y \"+str(coinNames[minCorrelationIndex2]))\n",
    "print(\"La mayor correlación de Pearson se encontró entre \"+str(coinNames[maxCorrelationIndex1]) + \" y \"+str(coinNames[maxCorrelationIndex2]))\n",
    "\n",
    "fig, ax = plt.subplots(1,2, figsize = (30, 10))\n",
    "color1 = ax[0].pcolormesh(correlationTable, cmap = 'plasma')\n",
    "ax[0].set_title(\"Pares de correlaciones de Pearson\")\n",
    "ax[0].set_xticklabels(coinNames)\n",
    "ax[0].set_yticklabels(coinNames)\n",
    "ax[0].set_xticks(range(1,len(coinNames)+1));\n",
    "ax[0].set_yticks(range(1,len(coinNames)+1));\n",
    "fig.colorbar(color1, ax = ax[0])\n",
    "color2 = ax[1].pcolormesh(significanceTable, cmap = 'plasma')\n",
    "ax[1].set_title(\"Pruebas de hipótesis Pearson\")\n",
    "ax[1].set_xticklabels(coinNames)\n",
    "ax[1].set_yticklabels(coinNames)\n",
    "ax[1].set_xticks(range(1,len(coinNames)+1));\n",
    "ax[1].set_yticks(range(1,len(coinNames)+1));\n",
    "fig.colorbar(color2, ax = ax[1])\n",
    "\n",
    "        "
   ]
  },
  {
   "cell_type": "markdown",
   "metadata": {},
   "source": [
    "#### 1.2. Información mutua"
   ]
  },
  {
   "cell_type": "code",
   "execution_count": null,
   "metadata": {},
   "outputs": [],
   "source": [
    "corrCalculator = CorrelationCalculator()\n",
    "coinTypes = [c for c in CoinType]\n",
    "coinNames = [c.value for c in coinTypes]\n",
    "\n",
    "n = len(coinTypes)\n",
    "mutualInformationTable = np.zeros((n,n))\n",
    "\n",
    "minMIIndex1 = 0\n",
    "minMIIndex2 = 0\n",
    "minMI = float('Inf')\n",
    "maxMIIndex1 = 0\n",
    "maxMIIndex2 = 0\n",
    "maxMI = float('-Inf')\n",
    "\n",
    "\n",
    "for i in range(0,n):\n",
    "    cType1 = coinTypes[i]\n",
    "    timeSeries1 = seriesDictionary[cType1]\n",
    "    for j in range(0,n):\n",
    "        cType2 = coinTypes[j]\n",
    "        timeSeries2 = seriesDictionary[cType2]\n",
    "        mutualInformation = corrCalculator.getMutualInformation(timeSeries1, timeSeries2)\n",
    "        mutualInformationTable[i,j] = mutualInformation\n",
    "        \n",
    "        if(i != j and mutualInformation >= maxMI):\n",
    "            maxMI = mutualInformation\n",
    "            maxMIIndex1 = i\n",
    "            maxMIIndex2 = j\n",
    "        \n",
    "        if(i != j and  mutualInformation <= minMI):\n",
    "            minMI = mutualInformation\n",
    "            minMIIndex1 = i\n",
    "            minMIIndex2 = j\n",
    "print(\"La menor información mutua se encontró entre \"+str(coinNames[minMIIndex1]) + \" y \"+str(coinNames[minMIIndex2]))\n",
    "print(\"La mayor información mutua se encontró entre \"+str(coinNames[maxMIIndex1]) + \" y \"+str(coinNames[maxMIIndex2]))\n",
    "\n",
    "fig, ax = plt.subplots(figsize = (15,8))\n",
    "color = ax.pcolormesh(mutualInformationTable,cmap = 'plasma')\n",
    "ax.set_title(\"Pares de Informaciones Mutuas\")\n",
    "ax.set_xticklabels(coinNames)\n",
    "ax.set_yticklabels(coinNames)\n",
    "ax.set_xticks(range(1,len(coinNames)+1));\n",
    "ax.set_yticks(range(1,len(coinNames)+1));\n",
    "fig.colorbar(color, ax = ax)\n"
   ]
  },
  {
   "cell_type": "markdown",
   "metadata": {},
   "source": [
    "### 2. Comparación de distribuciones"
   ]
  },
  {
   "cell_type": "markdown",
   "metadata": {},
   "source": [
    "#### 2.1.- Distancia Euclideana"
   ]
  },
  {
   "cell_type": "code",
   "execution_count": null,
   "metadata": {},
   "outputs": [],
   "source": [
    "distComparator = DistributionComparator()\n",
    "tArr, seriesDictionary = cryptoRetriever.getAllCoinSeriesDictionary()\n",
    "n = len(CoinType)\n",
    "rows = int(np.floor(n/3))\n",
    "if(n % 3 >0):\n",
    "    rows = rows + 1 \n",
    "fig, ax = plt.subplots(rows, 3, figsize = (15, 40))\n",
    "counter = 0\n",
    "for coin in CoinType:\n",
    "    row = int(counter/3)\n",
    "    col = counter%3\n",
    "    normData = (seriesDictionary[coin] - np.mean(seriesDictionary[coin]))/np.std(seriesDictionary[coin])\n",
    "    vals, dist = distComparator.getDistribution(normData)\n",
    "    print(len(vals))\n",
    "    print(len(dist))\n",
    "    ax[row, col].bar(vals, dist, color = \"#7aadff\")\n",
    "    ax[row, col].set_title(coin.value)\n",
    "    counter = counter + 1"
   ]
  },
  {
   "cell_type": "code",
   "execution_count": null,
   "metadata": {},
   "outputs": [],
   "source": [
    "coinTypes = [c for c in CoinType]\n",
    "coinNames = [c.value for c in coinTypes]\n",
    "\n",
    "n = len(coinTypes)\n",
    "distanceTable = np.zeros((n,n))\n",
    "\n",
    "minEuclideanIndex1 = 0\n",
    "minEuclideanIndex2 = 0\n",
    "minEuclidean = float('Inf')\n",
    "maxEuclideanIndex1= 0\n",
    "maxEuclideanIndex2 = 0\n",
    "maxEuclidean = float('-Inf')\n",
    "\n",
    "\n",
    "for i in range(0,n):\n",
    "    cType1 = coinTypes[i]\n",
    "    timeSeries1 = seriesDictionary[cType1]\n",
    "    for j in range(0,n):\n",
    "        cType2 = coinTypes[j]\n",
    "        timeSeries2 = seriesDictionary[cType2]\n",
    "        distance = distComparator.getEuclideanDistance(timeSeries1, timeSeries2)\n",
    "        distanceTable[i,j] = distance\n",
    "        \n",
    "        if(i != j and distance >= maxEuclidean):\n",
    "            maxEuclidean = distance\n",
    "            maxEuclideanIndex1 = i\n",
    "            maxEuclideanIndex2 = j\n",
    "        \n",
    "        if(i != j and  distance <= minEuclidean):\n",
    "            minEuclidean = distance\n",
    "            minEuclideanIndex1 = i\n",
    "            minEuclideanIndex2 = j\n",
    "print(\"La menor distancia euclidiana se encontró entre \"+str(coinNames[minEuclideanIndex1]) + \" y \"+str(coinNames[minEuclideanIndex2]))\n",
    "print(\"La mayor distancia euclidiana se encontró entre \"+str(coinNames[maxEuclideanIndex1]) + \" y \"+str(coinNames[maxEuclideanIndex2]))\n",
    "\n",
    "fig, ax = plt.subplots(figsize = (15,8))\n",
    "color = ax.pcolormesh(distanceTable,cmap = 'plasma')\n",
    "ax.set_title(\"Pares de distancias euclidianas entre distribuciones\")\n",
    "ax.set_xticklabels(coinNames)\n",
    "ax.set_yticklabels(coinNames)\n",
    "ax.set_xticks(range(1,len(coinNames)+1));\n",
    "ax.set_yticks(range(1,len(coinNames)+1));\n",
    "fig.colorbar(color, ax = ax)\n"
   ]
  },
  {
   "cell_type": "markdown",
   "metadata": {},
   "source": [
    "#### 2.2.- Distancia Normal"
   ]
  },
  {
   "cell_type": "code",
   "execution_count": null,
   "metadata": {},
   "outputs": [],
   "source": [
    "distComparator = DistributionComparator()\n",
    "coinTypes = [c for c in CoinType]\n",
    "coinNames = [c.value for c in coinTypes]\n",
    "\n",
    "n = len(coinTypes)\n",
    "distanceTable = np.zeros((n,n))\n",
    "\n",
    "minNormalIndex1 = 0\n",
    "minNormalIndex2 = 0\n",
    "minNormal = float('Inf')\n",
    "maxNormalIndex1= 0\n",
    "maxNormalIndex2 = 0\n",
    "maxNormal = float('-Inf')\n",
    "\n",
    "\n",
    "for i in range(0,n):\n",
    "    cType1 = coinTypes[i]\n",
    "    timeSeries1 = seriesDictionary[cType1]\n",
    "    for j in range(0,n):\n",
    "        cType2 = coinTypes[j]\n",
    "        timeSeries2 = seriesDictionary[cType2]\n",
    "        distance = distComparator.getNormalDistance(timeSeries1, timeSeries2)\n",
    "        distanceTable[i,j] = distance\n",
    "        \n",
    "        if(i != j and distance >= maxNormal):\n",
    "            maxNormal = distance\n",
    "            maxNormalIndex1 = i\n",
    "            maxNormalIndex2 = j\n",
    "        \n",
    "        if(i != j and  distance <= minNormal):\n",
    "            minNormal = distance\n",
    "            minNormalIndex1 = i\n",
    "            minNormalIndex2 = j\n",
    "            \n",
    "print(\"La menor distancia normal se encontró entre \"+str(coinNames[minNormalIndex1]) + \" y \"+str(coinNames[minNormalIndex2]))\n",
    "print(\"La mayor distancia normal se encontró entre \"+str(coinNames[maxNormalIndex1]) + \" y \"+str(coinNames[maxNormalIndex2]))\n",
    "\n",
    "fig, ax = plt.subplots(figsize = (15,8))\n",
    "color = ax.pcolormesh(distanceTable,cmap = 'plasma')\n",
    "ax.set_title(\"Pares de distancias normales entre distribuciones\")\n",
    "ax.set_xticklabels(coinNames)\n",
    "ax.set_yticklabels(coinNames)\n",
    "ax.set_xticks(range(1,len(coinNames)+1));\n",
    "ax.set_yticks(range(1,len(coinNames)+1));\n",
    "fig.colorbar(color, ax = ax)\n"
   ]
  },
  {
   "cell_type": "markdown",
   "metadata": {},
   "source": [
    "#### 2.3. Wasserstein Distance"
   ]
  },
  {
   "cell_type": "code",
   "execution_count": null,
   "metadata": {},
   "outputs": [],
   "source": [
    "distComparator = DistributionComparator()\n",
    "coinTypes = [c for c in CoinType]\n",
    "coinNames = [c.value for c in coinTypes]\n",
    "\n",
    "n = len(coinTypes)\n",
    "distanceTable = np.zeros((n,n))\n",
    "\n",
    "minWassersteinIndex1 = 0\n",
    "minWassersteinIndex2 = 0\n",
    "minWasserstein = float('Inf')\n",
    "maxWassersteinIndex1= 0\n",
    "maxWassersteinIndex2 = 0\n",
    "maxWasserstein = float('-Inf')\n",
    "\n",
    "\n",
    "for i in range(0,n):\n",
    "    cType1 = coinTypes[i]\n",
    "    timeSeries1 = seriesDictionary[cType1]\n",
    "    for j in range(0,n):\n",
    "        cType2 = coinTypes[j]\n",
    "        timeSeries2 = seriesDictionary[cType2]\n",
    "        distance = distComparator.computeWassersteinDistance(timeSeries1, timeSeries2)\n",
    "        distanceTable[i,j] = distance\n",
    "        \n",
    "        if(i != j and distance > maxWasserstein):\n",
    "            maxWasserstein = distance\n",
    "            maxWassersteinIndex1 = i\n",
    "            maxWassersteinIndex2 = j\n",
    "        \n",
    "        if(i != j and  distance < minWasserstein):\n",
    "            minWasserstein = distance\n",
    "            minWassersteinIndex1 = i\n",
    "            minWassersteinIndex2 = j\n",
    "print(\"La menor distancia Wasserstein se encontró entre \"+str(coinNames[minWassersteinIndex1]) + \" y \"+str(coinNames[minWassersteinIndex2]))\n",
    "print(\"La mayor distancia Wasserstein se encontró entre \"+str(coinNames[maxWassersteinIndex1]) + \" y \"+str(coinNames[maxWassersteinIndex2]))\n",
    "\n",
    "fig, ax = plt.subplots(figsize = (15,8))\n",
    "color = ax.pcolormesh(distanceTable,cmap = 'plasma')\n",
    "ax.set_title(\"Pares de distancias  Wasserstein entre distribuciones\")\n",
    "ax.set_xticklabels(coinNames)\n",
    "ax.set_yticklabels(coinNames)\n",
    "ax.set_xticks(range(1,len(coinNames)+1));\n",
    "ax.set_yticks(range(1,len(coinNames)+1));\n",
    "fig.colorbar(color, ax = ax)\n"
   ]
  },
  {
   "cell_type": "markdown",
   "metadata": {},
   "source": [
    "#### 2.4. Prueba de Kolmogorov"
   ]
  },
  {
   "cell_type": "code",
   "execution_count": null,
   "metadata": {},
   "outputs": [],
   "source": [
    "distComparator = DistributionComparator()\n",
    "coinTypes = [c for c in CoinType]\n",
    "coinNames = [c.value for c in coinTypes]\n",
    "tolerance = 0.01\n",
    "n = len(coinTypes)\n",
    "distanceTable = np.zeros((n,n))\n",
    "\n",
    "for i in range(0,n):\n",
    "    cType1 = coinTypes[i]\n",
    "    timeSeries1 = seriesDictionary[cType1]\n",
    "    for j in range(0,n):\n",
    "        cType2 = coinTypes[j]\n",
    "        timeSeries2 = seriesDictionary[cType2]\n",
    "        pValue = distComparator.kolmogorovTest(timeSeries1, timeSeries2)\n",
    "        distanceTable[i,j] = distance\n",
    "        \n",
    "        if(pValue < tolerance):\n",
    "            distanceTable[i,j] = 1\n",
    "\n",
    "fig, ax = plt.subplots(figsize = (15,8))\n",
    "color = ax.pcolormesh(distanceTable,cmap = 'plasma')\n",
    "ax.set_title(\"Pruebas de Kolmogorov\")\n",
    "ax.set_xticklabels(coinNames)\n",
    "ax.set_yticklabels(coinNames)\n",
    "ax.set_xticks(range(1,len(coinNames)+1));\n",
    "ax.set_yticks(range(1,len(coinNames)+1));\n",
    "fig.colorbar(color, ax = ax)"
   ]
  },
  {
   "cell_type": "markdown",
   "metadata": {},
   "source": [
    "### 3. Reducción de dimensionalidad"
   ]
  },
  {
   "cell_type": "code",
   "execution_count": null,
   "metadata": {},
   "outputs": [],
   "source": [
    "#Primero vamos a calcular todas las características\n",
    "coinTypes = [c for c in CoinType]\n",
    "coinNames = [c.value for c in coinTypes]\n",
    "featureCalculator = FeatureCalculator()\n",
    "nFeatures = featureCalculator.getNumberOfFeatures()\n",
    "nCoins = len(coinTypes)\n",
    "X = np.zeros((nCoins, nFeatures))\n",
    "\n",
    "for i in range(0, len(coinTypes)):\n",
    "    ct = coinTypes[i]\n",
    "    timeSeries = seriesDictionary[ct]\n",
    "    tArr = np.arange(0,len(timeSeries),1)\n",
    "    featuresVector = featureCalculator.computeAllFeatureVector(timeSeries, tArr)\n",
    "    X[i,:] = featuresVector\n",
    "    "
   ]
  },
  {
   "cell_type": "code",
   "execution_count": null,
   "metadata": {},
   "outputs": [],
   "source": [
    "#Ahora examinemos el efecto de los distintos métodos de reducción de la dimensinalidad que vimos\n",
    "dimReductor = DimReductor.DimReductor()\n",
    "pcaReduced = dimReductor.PCAReduction(X, 2)\n",
    "tsneReduced = dimReductor.tSNEReduction(X, 2)\n",
    "isomapReduced = dimReductor.isomapReduction(X, 2)\n",
    "#Para la reducción SOM necesitamos mas parámetros\n",
    "neuronWidth = 3\n",
    "neuronHeight = 3\n",
    "radius = 3\n",
    "learningRate = 0.9\n",
    "epochs = 1000\n",
    "\n",
    "uMatrix, winners = dimReductor.SOMReduction(X, neuronHeight, neuronWidth, radius, learningRate,  epochs)\n",
    "\n",
    "fig, ax = plt.subplots(1, 5, figsize = (20, 5))\n",
    "ax[0].plot(pcaReduced[:,0], pcaReduced[:,1], color = \"#7aadff\", marker = 'o', linestyle = 'none')\n",
    "ax[0].set_title(\"PCA\")\n",
    "ax[0].set_xlabel(\"Componente 1\")\n",
    "ax[0].set_ylabel(\"Componente 2\")\n",
    "for i in range(0,np.size(pcaReduced, 0)):\n",
    "    ax[0].text(pcaReduced[i,0], pcaReduced[i,1], coinNames[i])\n",
    "ax[1].plot(tsneReduced[:,0], tsneReduced[:,1], color = \"#7aadff\", marker = 'o', linestyle = 'none')\n",
    "ax[1].set_title(\"tSNE\")\n",
    "ax[1].set_xlabel(\"y\")\n",
    "ax[1].set_ylabel(\"x\")\n",
    "for i in range(0,np.size(tsneReduced, 0)):\n",
    "    ax[1].text(tsneReduced[i,0], tsneReduced[i,1], coinNames[i])\n",
    "ax[2].plot(isomapReduced[:,0], isomapReduced[:,1],color = \"#7aadff\", marker = 'o', linestyle = 'none')\n",
    "ax[2].set_title(\"ISOMAP\")\n",
    "ax[2].set_xlabel(\"x\")\n",
    "ax[2].set_ylabel(\"y\")\n",
    "for i in range(0,np.size(isomapReduced, 0)):\n",
    "    ax[2].text(isomapReduced[i,0], isomapReduced[i,1], coinNames[i])\n",
    "ax[3].pcolormesh(uMatrix, cmap = \"plasma\")\n",
    "ax[3].set_title(\"U-Matrix\")\n",
    "ax[3].set_xlabel(\"x\")\n",
    "ax[3].set_ylabel(\"y\")\n",
    "ax[4].plot([a[0] for a in winners],[a[1] for a in winners], color = \"#7aadff\", marker = 'o', linestyle = 'none')\n",
    "ax[4].set_title(\"SOM\")\n",
    "ax[4].set_xlabel(\"x\")\n",
    "ax[4].set_ylabel(\"y\")\n",
    "for i in range(0,len(winners)):\n",
    "    ax[4].text(winners[i][0], winners[i][1], coinNames[i])"
   ]
  },
  {
   "cell_type": "markdown",
   "metadata": {},
   "source": [
    "### 4. Cuantización de vectores"
   ]
  },
  {
   "cell_type": "code",
   "execution_count": null,
   "metadata": {},
   "outputs": [],
   "source": [
    "def getRandomColor():\n",
    "    s = \"#\"\n",
    "    r = str(hex(randrange(16)))[-1:] + str(hex(randrange(16)))[-1:]\n",
    "    g = str(hex(randrange(16)))[-1:] + str(hex(randrange(16)))[-1:]\n",
    "    b = str(hex(randrange(16)))[-1:] + str(hex(randrange(16)))[-1:]\n",
    "    s = s+r+g+b\n",
    "        \n",
    "    return s\n"
   ]
  },
  {
   "cell_type": "code",
   "execution_count": null,
   "metadata": {},
   "outputs": [],
   "source": [
    "k = 5\n",
    "vecQuantizer = DataQuantizer.DataQuantizer()\n",
    "centroidColor  = getRandomColor()\n",
    "classColors = [getRandomColor() for i in range(0,k)]\n",
    "\n",
    "cKMeans, lkMeans = vecQuantizer.applyKMeans(k, pcaReduced)\n",
    "ckMedians, lkMeadians = vecQuantizer.applyKMedians(k, pcaReduced)\n",
    "cSOM, lSOM = vecQuantizer.applySOM(pcaReduced, 3, 1, 3, 0.9, 1000)\n",
    "cAP, lAP = vecQuantizer.applyAffinityPropagation(pcaReduced)\n",
    "\n",
    "fig, ax = plt.subplots(1, 4, figsize = (20, 5))\n",
    "#ax[0].plot(cKMeans[:,0], cKMeans[:,1], color = centroidColor, marker = 'o', linestyle = 'none')\n",
    "for i in range(0, len(lkMeans)):\n",
    "    label = int(lkMeans[i])\n",
    "    print(label)\n",
    "    ax[0].plot(pcaReduced[i,0], pcaReduced[i,1], color = classColors[label], marker = 'o', linestyle = 'none')\n",
    "    ax[0].text(pcaReduced[i,0], pcaReduced[i,1], coinNames[i])\n",
    "ax[0].set_title(\"kMeans\")\n",
    "#ax[1].plot(ckMedians[:,0], ckMedians[:,1], color = centroidColor,marker = 'o', linestyle = 'none')\n",
    "for i in range(0, len(lkMeans)):\n",
    "    label = int(lkMeadians[i])\n",
    "    ax[1].plot(pcaReduced[i,0], pcaReduced[i,1], color = classColors[label], marker = 'o', linestyle = 'none')\n",
    "    ax[1].text(pcaReduced[i,0], pcaReduced[i,1], coinNames[i])\n",
    "ax[1].set_title(\"kMedians\")\n",
    "#ax[2].plot(cSOM[0][:,0], cSOM[0][:,1], color = centroidColor,marker = 'o', linestyle = 'none')\n",
    "for i in range(0, len(lSOM)):\n",
    "    label = int(lSOM[i][1])\n",
    "    ax[2].plot(pcaReduced[i,0], pcaReduced[i,1], color = classColors[label], marker = 'o', linestyle = 'none')\n",
    "    ax[2].text(pcaReduced[i,0], pcaReduced[i,1], coinNames[i])\n",
    "ax[2].set_title(\"SOM\")\n",
    "#ax[3].plot(cAP[:,0], cAP[:,1], color = centroidColor,marker = 'o', linestyle = 'none')\n",
    "colorsAP = [getRandomColor() for i in range(0,len(np.unique(lAP)))]\n",
    "for i in range(0, len(lAP)):\n",
    "    label = int(lAP[i])\n",
    "    ax[3].plot(pcaReduced[i,0], pcaReduced[i,1], color = colorsAP[label], marker = 'o', linestyle = 'none')\n",
    "    ax[3].text(pcaReduced[i,0], pcaReduced[i,1], coinNames[i])\n",
    "ax[3].set_title(\"AP\")"
   ]
  },
  {
   "cell_type": "code",
   "execution_count": null,
   "metadata": {},
   "outputs": [],
   "source": []
  },
  {
   "cell_type": "code",
   "execution_count": 16,
   "metadata": {},
   "outputs": [
    {
     "ename": "NameError",
     "evalue": "name 'som' is not defined",
     "output_type": "error",
     "traceback": [
      "\u001b[1;31m---------------------------------------------------------------------------\u001b[0m",
      "\u001b[1;31mNameError\u001b[0m                                 Traceback (most recent call last)",
      "\u001b[1;32m<ipython-input-16-dd0d55d18232>\u001b[0m in \u001b[0;36m<module>\u001b[1;34m\u001b[0m\n\u001b[1;32m----> 1\u001b[1;33m \u001b[0mplt\u001b[0m\u001b[1;33m.\u001b[0m\u001b[0mimshow\u001b[0m\u001b[1;33m(\u001b[0m\u001b[0msom\u001b[0m\u001b[1;33m.\u001b[0m\u001b[0mgetUMatrix\u001b[0m\u001b[1;33m(\u001b[0m\u001b[1;33m)\u001b[0m\u001b[1;33m)\u001b[0m\u001b[1;33m\u001b[0m\u001b[1;33m\u001b[0m\u001b[0m\n\u001b[0m",
      "\u001b[1;31mNameError\u001b[0m: name 'som' is not defined"
     ]
    }
   ],
   "source": [
    "plt.imshow(som.getUMatrix())"
   ]
  },
  {
   "cell_type": "code",
   "execution_count": null,
   "metadata": {},
   "outputs": [],
   "source": [
    "np.arange(1,100,2)"
   ]
  },
  {
   "cell_type": "code",
   "execution_count": null,
   "metadata": {},
   "outputs": [],
   "source": [
    "len(seriesDictionary[CoinType.DOGECOIN])"
   ]
  },
  {
   "cell_type": "code",
   "execution_count": null,
   "metadata": {},
   "outputs": [],
   "source": []
  }
 ],
 "metadata": {
  "kernelspec": {
   "display_name": "Python 3",
   "language": "python",
   "name": "python3"
  },
  "language_info": {
   "codemirror_mode": {
    "name": "ipython",
    "version": 3
   },
   "file_extension": ".py",
   "mimetype": "text/x-python",
   "name": "python",
   "nbconvert_exporter": "python",
   "pygments_lexer": "ipython3",
   "version": "3.7.6"
  }
 },
 "nbformat": 4,
 "nbformat_minor": 4
}
